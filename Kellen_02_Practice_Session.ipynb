{
  "nbformat": 4,
  "nbformat_minor": 0,
  "metadata": {
    "colab": {
      "provenance": [],
      "cell_execution_strategy": "setup",
      "include_colab_link": true
    },
    "kernelspec": {
      "name": "python3",
      "display_name": "Python 3"
    },
    "language_info": {
      "name": "python"
    }
  },
  "cells": [
    {
      "cell_type": "markdown",
      "metadata": {
        "id": "view-in-github",
        "colab_type": "text"
      },
      "source": [
        "<a href=\"https://colab.research.google.com/github/osirisNexus/first-contributions/blob/main/Kellen_02_Practice_Session.ipynb\" target=\"_parent\"><img src=\"https://colab.research.google.com/assets/colab-badge.svg\" alt=\"Open In Colab\"/></a>"
      ]
    },
    {
      "cell_type": "markdown",
      "source": [
        "# Python as a calculator\n",
        "You may use python as a powerful calculator. You can add your own expressions, and use print() function to show the results. Try out the following operators, and explain your results!\n",
        "\n",
        "\n",
        "Use all the following operations inside a print function and show to your instructor:\n",
        "\n",
        "\n",
        "+(Addition), -(Subtraction), *(Multiplication), /(division), %(Modulus), **(Exponentiation), //(Floor)"
      ],
      "metadata": {
        "id": "J2GsmfzmTZ5r"
      }
    },
    {
      "cell_type": "code",
      "source": [],
      "metadata": {
        "id": "kJAHtQCu9W9u"
      },
      "execution_count": null,
      "outputs": []
    },
    {
      "cell_type": "markdown",
      "source": [
        "# Print “Hello, world!”\n",
        "\n",
        "Output the following string:\n",
        "\n",
        "```\n",
        "Hello, world!\n",
        "```\n",
        "\n"
      ],
      "metadata": {
        "id": "V4wVWhTjTi3a"
      }
    },
    {
      "cell_type": "code",
      "execution_count": null,
      "metadata": {
        "id": "IQJu3MRuTFth"
      },
      "outputs": [],
      "source": []
    }
  ]
}